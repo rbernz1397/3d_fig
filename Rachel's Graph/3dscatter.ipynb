{
 "cells": [
  {
   "cell_type": "code",
   "execution_count": 1,
   "metadata": {},
   "outputs": [],
   "source": [
    "from pymongo import MongoClient\n",
    "from pprint import pprint\n",
    "import numpy as np\n",
    "import matplotlib.pyplot as plt\n",
    "import pandas as pd\n",
    "import seaborn as sns\n",
    "import plotly.express as px"
   ]
  },
  {
   "cell_type": "code",
   "execution_count": 2,
   "metadata": {},
   "outputs": [],
   "source": [
    "mongo = MongoClient(port=27017)"
   ]
  },
  {
   "cell_type": "code",
   "execution_count": 3,
   "metadata": {},
   "outputs": [
    {
     "name": "stdout",
     "output_type": "stream",
     "text": [
      "['Spotify_2023', 'admin', 'autosaurus', 'classDB', 'config', 'epa', 'local', 'met', 'petsitly_marketing', 'travel_db']\n"
     ]
    }
   ],
   "source": [
    "print(mongo.list_database_names())"
   ]
  },
  {
   "cell_type": "code",
   "execution_count": 4,
   "metadata": {},
   "outputs": [],
   "source": [
    "db = mongo['Spotify_2023']"
   ]
  },
  {
   "cell_type": "code",
   "execution_count": 5,
   "metadata": {},
   "outputs": [
    {
     "name": "stdout",
     "output_type": "stream",
     "text": [
      "['Song_list']\n"
     ]
    }
   ],
   "source": [
    "# testing database collection names\n",
    "print(db.list_collection_names())"
   ]
  },
  {
   "cell_type": "code",
   "execution_count": 6,
   "metadata": {},
   "outputs": [],
   "source": [
    "Most_Popular_Songs_2023 = db['Song_list']"
   ]
  },
  {
   "cell_type": "code",
   "execution_count": 7,
   "metadata": {},
   "outputs": [
    {
     "data": {
      "text/plain": [
       "{'_id': ObjectId('666b907452d1c34f36f0c553'),\n",
       " 'track_name': 'Seven (feat. Latto) (Explicit Ver.)',\n",
       " 'artist(s)_name': 'Latto, Jung Kook',\n",
       " 'artist_count': 2,\n",
       " 'released_year': 2023,\n",
       " 'released_month': 7,\n",
       " 'released_day': 14,\n",
       " 'in_spotify_playlists': 553,\n",
       " 'in_spotify_charts': 147,\n",
       " 'streams': 141381703,\n",
       " 'in_apple_playlists': 43,\n",
       " 'in_apple_charts': 263,\n",
       " 'in_deezer_playlists': 45,\n",
       " 'in_deezer_charts': 10,\n",
       " 'in_shazam_charts': 826,\n",
       " 'bpm': 125,\n",
       " 'key': 'B',\n",
       " 'mode': 'Major',\n",
       " 'danceability_%': 80,\n",
       " 'valence_%': 89,\n",
       " 'energy_%': 83,\n",
       " 'acousticness_%': 31,\n",
       " 'instrumentalness_%': 0,\n",
       " 'liveness_%': 8,\n",
       " 'speechiness_%': 4}"
      ]
     },
     "execution_count": 7,
     "metadata": {},
     "output_type": "execute_result"
    }
   ],
   "source": [
    "# testing our song list\n",
    "Most_Popular_Songs_2023.find_one()"
   ]
  },
  {
   "cell_type": "code",
   "execution_count": 8,
   "metadata": {},
   "outputs": [
    {
     "data": {
      "text/html": [
       "<div>\n",
       "<style scoped>\n",
       "    .dataframe tbody tr th:only-of-type {\n",
       "        vertical-align: middle;\n",
       "    }\n",
       "\n",
       "    .dataframe tbody tr th {\n",
       "        vertical-align: top;\n",
       "    }\n",
       "\n",
       "    .dataframe thead th {\n",
       "        text-align: right;\n",
       "    }\n",
       "</style>\n",
       "<table border=\"1\" class=\"dataframe\">\n",
       "  <thead>\n",
       "    <tr style=\"text-align: right;\">\n",
       "      <th></th>\n",
       "      <th>_id</th>\n",
       "      <th>track_name</th>\n",
       "      <th>artist(s)_name</th>\n",
       "      <th>artist_count</th>\n",
       "      <th>released_year</th>\n",
       "      <th>released_month</th>\n",
       "      <th>released_day</th>\n",
       "      <th>in_spotify_playlists</th>\n",
       "      <th>in_spotify_charts</th>\n",
       "      <th>streams</th>\n",
       "      <th>...</th>\n",
       "      <th>bpm</th>\n",
       "      <th>key</th>\n",
       "      <th>mode</th>\n",
       "      <th>danceability_%</th>\n",
       "      <th>valence_%</th>\n",
       "      <th>energy_%</th>\n",
       "      <th>acousticness_%</th>\n",
       "      <th>instrumentalness_%</th>\n",
       "      <th>liveness_%</th>\n",
       "      <th>speechiness_%</th>\n",
       "    </tr>\n",
       "  </thead>\n",
       "  <tbody>\n",
       "    <tr>\n",
       "      <th>0</th>\n",
       "      <td>666b907452d1c34f36f0c553</td>\n",
       "      <td>Seven (feat. Latto) (Explicit Ver.)</td>\n",
       "      <td>Latto, Jung Kook</td>\n",
       "      <td>2</td>\n",
       "      <td>2023</td>\n",
       "      <td>7</td>\n",
       "      <td>14</td>\n",
       "      <td>553</td>\n",
       "      <td>147</td>\n",
       "      <td>141381703</td>\n",
       "      <td>...</td>\n",
       "      <td>125</td>\n",
       "      <td>B</td>\n",
       "      <td>Major</td>\n",
       "      <td>80</td>\n",
       "      <td>89</td>\n",
       "      <td>83</td>\n",
       "      <td>31</td>\n",
       "      <td>0</td>\n",
       "      <td>8</td>\n",
       "      <td>4</td>\n",
       "    </tr>\n",
       "    <tr>\n",
       "      <th>1</th>\n",
       "      <td>666b907452d1c34f36f0c561</td>\n",
       "      <td>As It Was</td>\n",
       "      <td>Harry Styles</td>\n",
       "      <td>1</td>\n",
       "      <td>2022</td>\n",
       "      <td>3</td>\n",
       "      <td>31</td>\n",
       "      <td>23575</td>\n",
       "      <td>130</td>\n",
       "      <td>2513188493</td>\n",
       "      <td>...</td>\n",
       "      <td>174</td>\n",
       "      <td>F#</td>\n",
       "      <td>Minor</td>\n",
       "      <td>52</td>\n",
       "      <td>66</td>\n",
       "      <td>73</td>\n",
       "      <td>34</td>\n",
       "      <td>0</td>\n",
       "      <td>31</td>\n",
       "      <td>6</td>\n",
       "    </tr>\n",
       "    <tr>\n",
       "      <th>2</th>\n",
       "      <td>666b907452d1c34f36f0c55f</td>\n",
       "      <td>Flowers</td>\n",
       "      <td>Miley Cyrus</td>\n",
       "      <td>1</td>\n",
       "      <td>2023</td>\n",
       "      <td>1</td>\n",
       "      <td>12</td>\n",
       "      <td>12211</td>\n",
       "      <td>115</td>\n",
       "      <td>1316855716</td>\n",
       "      <td>...</td>\n",
       "      <td>118</td>\n",
       "      <td>NaN</td>\n",
       "      <td>Major</td>\n",
       "      <td>71</td>\n",
       "      <td>65</td>\n",
       "      <td>68</td>\n",
       "      <td>6</td>\n",
       "      <td>0</td>\n",
       "      <td>3</td>\n",
       "      <td>7</td>\n",
       "    </tr>\n",
       "    <tr>\n",
       "      <th>3</th>\n",
       "      <td>666b907452d1c34f36f0c555</td>\n",
       "      <td>vampire</td>\n",
       "      <td>Olivia Rodrigo</td>\n",
       "      <td>1</td>\n",
       "      <td>2023</td>\n",
       "      <td>6</td>\n",
       "      <td>30</td>\n",
       "      <td>1397</td>\n",
       "      <td>113</td>\n",
       "      <td>140003974</td>\n",
       "      <td>...</td>\n",
       "      <td>138</td>\n",
       "      <td>F</td>\n",
       "      <td>Major</td>\n",
       "      <td>51</td>\n",
       "      <td>32</td>\n",
       "      <td>53</td>\n",
       "      <td>17</td>\n",
       "      <td>0</td>\n",
       "      <td>31</td>\n",
       "      <td>6</td>\n",
       "    </tr>\n",
       "    <tr>\n",
       "      <th>4</th>\n",
       "      <td>666b907452d1c34f36f0c569</td>\n",
       "      <td>I Wanna Be Yours</td>\n",
       "      <td>Arctic Monkeys</td>\n",
       "      <td>1</td>\n",
       "      <td>2013</td>\n",
       "      <td>1</td>\n",
       "      <td>1</td>\n",
       "      <td>12859</td>\n",
       "      <td>110</td>\n",
       "      <td>1297026226</td>\n",
       "      <td>...</td>\n",
       "      <td>135</td>\n",
       "      <td>NaN</td>\n",
       "      <td>Minor</td>\n",
       "      <td>48</td>\n",
       "      <td>44</td>\n",
       "      <td>42</td>\n",
       "      <td>12</td>\n",
       "      <td>2</td>\n",
       "      <td>11</td>\n",
       "      <td>3</td>\n",
       "    </tr>\n",
       "  </tbody>\n",
       "</table>\n",
       "<p>5 rows × 25 columns</p>\n",
       "</div>"
      ],
      "text/plain": [
       "                        _id                           track_name  \\\n",
       "0  666b907452d1c34f36f0c553  Seven (feat. Latto) (Explicit Ver.)   \n",
       "1  666b907452d1c34f36f0c561                            As It Was   \n",
       "2  666b907452d1c34f36f0c55f                              Flowers   \n",
       "3  666b907452d1c34f36f0c555                              vampire   \n",
       "4  666b907452d1c34f36f0c569                     I Wanna Be Yours   \n",
       "\n",
       "     artist(s)_name  artist_count  released_year  released_month  \\\n",
       "0  Latto, Jung Kook             2           2023               7   \n",
       "1      Harry Styles             1           2022               3   \n",
       "2       Miley Cyrus             1           2023               1   \n",
       "3    Olivia Rodrigo             1           2023               6   \n",
       "4    Arctic Monkeys             1           2013               1   \n",
       "\n",
       "   released_day  in_spotify_playlists  in_spotify_charts     streams  ...  \\\n",
       "0            14                   553                147   141381703  ...   \n",
       "1            31                 23575                130  2513188493  ...   \n",
       "2            12                 12211                115  1316855716  ...   \n",
       "3            30                  1397                113   140003974  ...   \n",
       "4             1                 12859                110  1297026226  ...   \n",
       "\n",
       "   bpm  key   mode  danceability_% valence_%  energy_% acousticness_%  \\\n",
       "0  125    B  Major              80        89        83             31   \n",
       "1  174   F#  Minor              52        66        73             34   \n",
       "2  118  NaN  Major              71        65        68              6   \n",
       "3  138    F  Major              51        32        53             17   \n",
       "4  135  NaN  Minor              48        44        42             12   \n",
       "\n",
       "  instrumentalness_%  liveness_%  speechiness_%  \n",
       "0                  0           8              4  \n",
       "1                  0          31              6  \n",
       "2                  0           3              7  \n",
       "3                  0          31              6  \n",
       "4                  2          11              3  \n",
       "\n",
       "[5 rows x 25 columns]"
      ]
     },
     "execution_count": 8,
     "metadata": {},
     "output_type": "execute_result"
    }
   ],
   "source": [
    "# creating a list from the mongo database:\n",
    "x = list(Most_Popular_Songs_2023.find().sort({'in_spotify_charts':-1}))\n",
    "# creating original df\n",
    "df_Spotify = pd.DataFrame(x)\n",
    "df_Spotify.head()"
   ]
  },
  {
   "cell_type": "code",
   "execution_count": 9,
   "metadata": {},
   "outputs": [
    {
     "data": {
      "text/html": [
       "<div>\n",
       "<style scoped>\n",
       "    .dataframe tbody tr th:only-of-type {\n",
       "        vertical-align: middle;\n",
       "    }\n",
       "\n",
       "    .dataframe tbody tr th {\n",
       "        vertical-align: top;\n",
       "    }\n",
       "\n",
       "    .dataframe thead th {\n",
       "        text-align: right;\n",
       "    }\n",
       "</style>\n",
       "<table border=\"1\" class=\"dataframe\">\n",
       "  <thead>\n",
       "    <tr style=\"text-align: right;\">\n",
       "      <th></th>\n",
       "      <th>_id</th>\n",
       "      <th>track_name</th>\n",
       "      <th>artist(s)_name</th>\n",
       "      <th>artist_count</th>\n",
       "      <th>released_year</th>\n",
       "      <th>released_month</th>\n",
       "      <th>released_day</th>\n",
       "      <th>in_spotify_playlists</th>\n",
       "      <th>in_spotify_charts</th>\n",
       "      <th>streams</th>\n",
       "      <th>...</th>\n",
       "      <th>bpm</th>\n",
       "      <th>key</th>\n",
       "      <th>mode</th>\n",
       "      <th>danceability_%</th>\n",
       "      <th>valence_%</th>\n",
       "      <th>energy_%</th>\n",
       "      <th>acousticness_%</th>\n",
       "      <th>instrumentalness_%</th>\n",
       "      <th>liveness_%</th>\n",
       "      <th>speechiness_%</th>\n",
       "    </tr>\n",
       "  </thead>\n",
       "  <tbody>\n",
       "    <tr>\n",
       "      <th>0</th>\n",
       "      <td>666b907452d1c34f36f0c553</td>\n",
       "      <td>Seven (feat. Latto) (Explicit Ver.)</td>\n",
       "      <td>Latto, Jung Kook</td>\n",
       "      <td>2</td>\n",
       "      <td>2023</td>\n",
       "      <td>7</td>\n",
       "      <td>14</td>\n",
       "      <td>553</td>\n",
       "      <td>147</td>\n",
       "      <td>141381703</td>\n",
       "      <td>...</td>\n",
       "      <td>125</td>\n",
       "      <td>B</td>\n",
       "      <td>Major</td>\n",
       "      <td>80</td>\n",
       "      <td>89</td>\n",
       "      <td>83</td>\n",
       "      <td>31</td>\n",
       "      <td>0</td>\n",
       "      <td>8</td>\n",
       "      <td>4</td>\n",
       "    </tr>\n",
       "    <tr>\n",
       "      <th>1</th>\n",
       "      <td>666b907452d1c34f36f0c561</td>\n",
       "      <td>As It Was</td>\n",
       "      <td>Harry Styles</td>\n",
       "      <td>1</td>\n",
       "      <td>2022</td>\n",
       "      <td>3</td>\n",
       "      <td>31</td>\n",
       "      <td>23575</td>\n",
       "      <td>130</td>\n",
       "      <td>2513188493</td>\n",
       "      <td>...</td>\n",
       "      <td>174</td>\n",
       "      <td>F#</td>\n",
       "      <td>Minor</td>\n",
       "      <td>52</td>\n",
       "      <td>66</td>\n",
       "      <td>73</td>\n",
       "      <td>34</td>\n",
       "      <td>0</td>\n",
       "      <td>31</td>\n",
       "      <td>6</td>\n",
       "    </tr>\n",
       "    <tr>\n",
       "      <th>2</th>\n",
       "      <td>666b907452d1c34f36f0c55f</td>\n",
       "      <td>Flowers</td>\n",
       "      <td>Miley Cyrus</td>\n",
       "      <td>1</td>\n",
       "      <td>2023</td>\n",
       "      <td>1</td>\n",
       "      <td>12</td>\n",
       "      <td>12211</td>\n",
       "      <td>115</td>\n",
       "      <td>1316855716</td>\n",
       "      <td>...</td>\n",
       "      <td>118</td>\n",
       "      <td>NaN</td>\n",
       "      <td>Major</td>\n",
       "      <td>71</td>\n",
       "      <td>65</td>\n",
       "      <td>68</td>\n",
       "      <td>6</td>\n",
       "      <td>0</td>\n",
       "      <td>3</td>\n",
       "      <td>7</td>\n",
       "    </tr>\n",
       "    <tr>\n",
       "      <th>3</th>\n",
       "      <td>666b907452d1c34f36f0c555</td>\n",
       "      <td>vampire</td>\n",
       "      <td>Olivia Rodrigo</td>\n",
       "      <td>1</td>\n",
       "      <td>2023</td>\n",
       "      <td>6</td>\n",
       "      <td>30</td>\n",
       "      <td>1397</td>\n",
       "      <td>113</td>\n",
       "      <td>140003974</td>\n",
       "      <td>...</td>\n",
       "      <td>138</td>\n",
       "      <td>F</td>\n",
       "      <td>Major</td>\n",
       "      <td>51</td>\n",
       "      <td>32</td>\n",
       "      <td>53</td>\n",
       "      <td>17</td>\n",
       "      <td>0</td>\n",
       "      <td>31</td>\n",
       "      <td>6</td>\n",
       "    </tr>\n",
       "    <tr>\n",
       "      <th>4</th>\n",
       "      <td>666b907452d1c34f36f0c569</td>\n",
       "      <td>I Wanna Be Yours</td>\n",
       "      <td>Arctic Monkeys</td>\n",
       "      <td>1</td>\n",
       "      <td>2013</td>\n",
       "      <td>1</td>\n",
       "      <td>1</td>\n",
       "      <td>12859</td>\n",
       "      <td>110</td>\n",
       "      <td>1297026226</td>\n",
       "      <td>...</td>\n",
       "      <td>135</td>\n",
       "      <td>NaN</td>\n",
       "      <td>Minor</td>\n",
       "      <td>48</td>\n",
       "      <td>44</td>\n",
       "      <td>42</td>\n",
       "      <td>12</td>\n",
       "      <td>2</td>\n",
       "      <td>11</td>\n",
       "      <td>3</td>\n",
       "    </tr>\n",
       "    <tr>\n",
       "      <th>...</th>\n",
       "      <td>...</td>\n",
       "      <td>...</td>\n",
       "      <td>...</td>\n",
       "      <td>...</td>\n",
       "      <td>...</td>\n",
       "      <td>...</td>\n",
       "      <td>...</td>\n",
       "      <td>...</td>\n",
       "      <td>...</td>\n",
       "      <td>...</td>\n",
       "      <td>...</td>\n",
       "      <td>...</td>\n",
       "      <td>...</td>\n",
       "      <td>...</td>\n",
       "      <td>...</td>\n",
       "      <td>...</td>\n",
       "      <td>...</td>\n",
       "      <td>...</td>\n",
       "      <td>...</td>\n",
       "      <td>...</td>\n",
       "      <td>...</td>\n",
       "    </tr>\n",
       "    <tr>\n",
       "      <th>95</th>\n",
       "      <td>666b907452d1c34f36f0c690</td>\n",
       "      <td>LA INOCENTE</td>\n",
       "      <td>Feid, Mora</td>\n",
       "      <td>2</td>\n",
       "      <td>2022</td>\n",
       "      <td>4</td>\n",
       "      <td>1</td>\n",
       "      <td>2598</td>\n",
       "      <td>37</td>\n",
       "      <td>477033549</td>\n",
       "      <td>...</td>\n",
       "      <td>92</td>\n",
       "      <td>F</td>\n",
       "      <td>Minor</td>\n",
       "      <td>76</td>\n",
       "      <td>46</td>\n",
       "      <td>79</td>\n",
       "      <td>31</td>\n",
       "      <td>0</td>\n",
       "      <td>7</td>\n",
       "      <td>6</td>\n",
       "    </tr>\n",
       "    <tr>\n",
       "      <th>96</th>\n",
       "      <td>666b907452d1c34f36f0c597</td>\n",
       "      <td>Overdrive</td>\n",
       "      <td>Post Malone</td>\n",
       "      <td>1</td>\n",
       "      <td>2023</td>\n",
       "      <td>7</td>\n",
       "      <td>14</td>\n",
       "      <td>410</td>\n",
       "      <td>36</td>\n",
       "      <td>14780425</td>\n",
       "      <td>...</td>\n",
       "      <td>140</td>\n",
       "      <td>C#</td>\n",
       "      <td>Major</td>\n",
       "      <td>56</td>\n",
       "      <td>48</td>\n",
       "      <td>73</td>\n",
       "      <td>0</td>\n",
       "      <td>0</td>\n",
       "      <td>35</td>\n",
       "      <td>4</td>\n",
       "    </tr>\n",
       "    <tr>\n",
       "      <th>97</th>\n",
       "      <td>666b907452d1c34f36f0c59b</td>\n",
       "      <td>golden hour</td>\n",
       "      <td>JVKE</td>\n",
       "      <td>1</td>\n",
       "      <td>2022</td>\n",
       "      <td>7</td>\n",
       "      <td>15</td>\n",
       "      <td>4511</td>\n",
       "      <td>36</td>\n",
       "      <td>751134527</td>\n",
       "      <td>...</td>\n",
       "      <td>94</td>\n",
       "      <td>C#</td>\n",
       "      <td>Minor</td>\n",
       "      <td>51</td>\n",
       "      <td>14</td>\n",
       "      <td>59</td>\n",
       "      <td>65</td>\n",
       "      <td>18</td>\n",
       "      <td>25</td>\n",
       "      <td>3</td>\n",
       "    </tr>\n",
       "    <tr>\n",
       "      <th>98</th>\n",
       "      <td>666b907452d1c34f36f0c5a7</td>\n",
       "      <td>STAY (with Justin Bieber)</td>\n",
       "      <td>Justin Bieber, The Kid Laroi</td>\n",
       "      <td>2</td>\n",
       "      <td>2021</td>\n",
       "      <td>7</td>\n",
       "      <td>9</td>\n",
       "      <td>17050</td>\n",
       "      <td>36</td>\n",
       "      <td>2665343922</td>\n",
       "      <td>...</td>\n",
       "      <td>170</td>\n",
       "      <td>C#</td>\n",
       "      <td>Major</td>\n",
       "      <td>59</td>\n",
       "      <td>48</td>\n",
       "      <td>76</td>\n",
       "      <td>4</td>\n",
       "      <td>0</td>\n",
       "      <td>10</td>\n",
       "      <td>5</td>\n",
       "    </tr>\n",
       "    <tr>\n",
       "      <th>99</th>\n",
       "      <td>666b907452d1c34f36f0c5c6</td>\n",
       "      <td>No Role Modelz</td>\n",
       "      <td>J. Cole</td>\n",
       "      <td>1</td>\n",
       "      <td>2014</td>\n",
       "      <td>12</td>\n",
       "      <td>9</td>\n",
       "      <td>21164</td>\n",
       "      <td>36</td>\n",
       "      <td>1791000570</td>\n",
       "      <td>...</td>\n",
       "      <td>100</td>\n",
       "      <td>A#</td>\n",
       "      <td>Minor</td>\n",
       "      <td>70</td>\n",
       "      <td>47</td>\n",
       "      <td>52</td>\n",
       "      <td>30</td>\n",
       "      <td>0</td>\n",
       "      <td>6</td>\n",
       "      <td>33</td>\n",
       "    </tr>\n",
       "  </tbody>\n",
       "</table>\n",
       "<p>100 rows × 25 columns</p>\n",
       "</div>"
      ],
      "text/plain": [
       "                         _id                           track_name  \\\n",
       "0   666b907452d1c34f36f0c553  Seven (feat. Latto) (Explicit Ver.)   \n",
       "1   666b907452d1c34f36f0c561                            As It Was   \n",
       "2   666b907452d1c34f36f0c55f                              Flowers   \n",
       "3   666b907452d1c34f36f0c555                              vampire   \n",
       "4   666b907452d1c34f36f0c569                     I Wanna Be Yours   \n",
       "..                       ...                                  ...   \n",
       "95  666b907452d1c34f36f0c690                          LA INOCENTE   \n",
       "96  666b907452d1c34f36f0c597                            Overdrive   \n",
       "97  666b907452d1c34f36f0c59b                          golden hour   \n",
       "98  666b907452d1c34f36f0c5a7            STAY (with Justin Bieber)   \n",
       "99  666b907452d1c34f36f0c5c6                       No Role Modelz   \n",
       "\n",
       "                  artist(s)_name  artist_count  released_year  released_month  \\\n",
       "0               Latto, Jung Kook             2           2023               7   \n",
       "1                   Harry Styles             1           2022               3   \n",
       "2                    Miley Cyrus             1           2023               1   \n",
       "3                 Olivia Rodrigo             1           2023               6   \n",
       "4                 Arctic Monkeys             1           2013               1   \n",
       "..                           ...           ...            ...             ...   \n",
       "95                    Feid, Mora             2           2022               4   \n",
       "96                   Post Malone             1           2023               7   \n",
       "97                          JVKE             1           2022               7   \n",
       "98  Justin Bieber, The Kid Laroi             2           2021               7   \n",
       "99                       J. Cole             1           2014              12   \n",
       "\n",
       "    released_day  in_spotify_playlists  in_spotify_charts     streams  ...  \\\n",
       "0             14                   553                147   141381703  ...   \n",
       "1             31                 23575                130  2513188493  ...   \n",
       "2             12                 12211                115  1316855716  ...   \n",
       "3             30                  1397                113   140003974  ...   \n",
       "4              1                 12859                110  1297026226  ...   \n",
       "..           ...                   ...                ...         ...  ...   \n",
       "95             1                  2598                 37   477033549  ...   \n",
       "96            14                   410                 36    14780425  ...   \n",
       "97            15                  4511                 36   751134527  ...   \n",
       "98             9                 17050                 36  2665343922  ...   \n",
       "99             9                 21164                 36  1791000570  ...   \n",
       "\n",
       "    bpm  key   mode  danceability_% valence_%  energy_% acousticness_%  \\\n",
       "0   125    B  Major              80        89        83             31   \n",
       "1   174   F#  Minor              52        66        73             34   \n",
       "2   118  NaN  Major              71        65        68              6   \n",
       "3   138    F  Major              51        32        53             17   \n",
       "4   135  NaN  Minor              48        44        42             12   \n",
       "..  ...  ...    ...             ...       ...       ...            ...   \n",
       "95   92    F  Minor              76        46        79             31   \n",
       "96  140   C#  Major              56        48        73              0   \n",
       "97   94   C#  Minor              51        14        59             65   \n",
       "98  170   C#  Major              59        48        76              4   \n",
       "99  100   A#  Minor              70        47        52             30   \n",
       "\n",
       "   instrumentalness_%  liveness_%  speechiness_%  \n",
       "0                   0           8              4  \n",
       "1                   0          31              6  \n",
       "2                   0           3              7  \n",
       "3                   0          31              6  \n",
       "4                   2          11              3  \n",
       "..                ...         ...            ...  \n",
       "95                  0           7              6  \n",
       "96                  0          35              4  \n",
       "97                 18          25              3  \n",
       "98                  0          10              5  \n",
       "99                  0           6             33  \n",
       "\n",
       "[100 rows x 25 columns]"
      ]
     },
     "execution_count": 9,
     "metadata": {},
     "output_type": "execute_result"
    }
   ],
   "source": [
    "# grabbing the top 100 values\n",
    "df_Spotify = df_Spotify.head(100)\n",
    "df_Spotify"
   ]
  },
  {
   "cell_type": "code",
   "execution_count": 10,
   "metadata": {},
   "outputs": [
    {
     "data": {
      "text/plain": [
       "_id                      object\n",
       "track_name               object\n",
       "artist(s)_name           object\n",
       "artist_count              int64\n",
       "released_year             int64\n",
       "released_month            int64\n",
       "released_day              int64\n",
       "in_spotify_playlists      int64\n",
       "in_spotify_charts         int64\n",
       "streams                 float64\n",
       "in_apple_playlists        int64\n",
       "in_apple_charts           int64\n",
       "in_deezer_playlists      object\n",
       "in_deezer_charts          int64\n",
       "in_shazam_charts         object\n",
       "bpm                       int64\n",
       "key                      object\n",
       "mode                     object\n",
       "danceability_%            int64\n",
       "valence_%                 int64\n",
       "energy_%                  int64\n",
       "acousticness_%            int64\n",
       "instrumentalness_%        int64\n",
       "liveness_%                int64\n",
       "speechiness_%             int64\n",
       "dtype: object"
      ]
     },
     "execution_count": 10,
     "metadata": {},
     "output_type": "execute_result"
    }
   ],
   "source": [
    "# changing 'streams' to an int\n",
    "df_Spotify['streams'] = df_Spotify['streams'].astype(float)\n",
    "df_Spotify.dtypes"
   ]
  },
  {
   "cell_type": "code",
   "execution_count": 11,
   "metadata": {},
   "outputs": [
    {
     "data": {
      "application/vnd.plotly.v1+json": {
       "config": {
        "plotlyServerURL": "https://plot.ly"
       },
       "data": [
        {
         "hovertemplate": "<b>%{hovertext}</b><br><br>Apple=%{x}<br>Shazam=%{y}<br>Spotify=%{z}<br>streams=%{marker.color}<extra></extra>",
         "hovertext": [
          "Seven (feat. Latto) (Explicit Ver.)",
          "Flowers",
          "vampire",
          "I Wanna Be Yours",
          "What Was I Made For? [From The Motion Picture \"Barbie\"]",
          "Dance The Night (From Barbie The Album)",
          "Cruel Summer",
          "Daylight",
          "Sprinter",
          "Creepin'",
          "Popular (with Playboi Carti & Madonna) - The Idol Vol. 1 (Music from the HBO Original Series)",
          "fukumean",
          "I'm Good (Blue)",
          "Barbie World (with Aqua) [From Barbie The Album]",
          "Starboy",
          "Rush",
          "Sunflower - Spider-Man: Into the Spider-Verse",
          "Kill Bill",
          "Cupid - Twin Ver.",
          "Calm Down (with Selena Gomez)",
          "I Ain't Worried",
          "Bite Me",
          "Like Crazy",
          "Baby Don't Hurt Me",
          "See You Again",
          "Viva La Vida",
          "Mockingbird",
          "Die For You",
          "(It Goes Like) Nanana - Edit",
          "Tattoo",
          "Too Many Nights (feat. Don Toliver & with Future)",
          "Anti-Hero",
          "People",
          "Super Shy",
          "Riptide",
          "Blank Space",
          "Makeba",
          "Summertime Sadness",
          "Cold Heart - PNAU Remix",
          "Can't Hold Us (feat. Ray Dalton)",
          "WHERE SHE GOES",
          "Ella Baila Sola",
          "BESO",
          "MONTAGEM - FR PUNK",
          "TQG",
          "LALA",
          "Miracle (with Ellie Goulding)",
          "Die For You - Remix",
          "Take Two",
          "Say Yes To Heaven",
          "Radio",
          "Trance (with Travis Scott & Young Thug)",
          "La Bachata",
          "Quevedo: Bzrp Music Sessions, Vol. 52",
          "La Bebe - Remix",
          "El Merengue",
          "Bones",
          "Shakira: Bzrp Music Sessions, Vol. 53",
          "Doja",
          "Where Are You Now",
          "Columbia",
          "Yellow",
          "Me Porto Bonito",
          "Set Fire to the Rain",
          "Without Me",
          "Counting Stars",
          "Style",
          "Moonlight",
          "Unholy (feat. Kim Petras)",
          "Titi Me PreguntÔø",
          "S91",
          "Boy's a liar Pt. 2",
          "un x100to",
          "Classy 101",
          "Peso Pluma: Bzrp Music Sessions, Vol. 55",
          "MOJABI GHOST",
          "AMARGURA",
          "Left and Right (Feat. Jung Kook of BTS)",
          "Still With You",
          "Chemical",
          "I Can See You (TaylorÔøΩÔøΩÔøΩs Version) (From The ",
          "El Cielo",
          "Hey Mor",
          "Yandel 150",
          "Coco Chanel",
          "Rara Vez",
          "Feliz CumpleaÔøΩÔøΩos Fe",
          "Ojitos Lindos",
          "Danza Kuduro",
          "LA INOCENTE",
          "Overdrive",
          "golden hour",
          "STAY (with Justin Bieber)",
          "No Role Modelz"
         ],
         "legendgroup": "",
         "marker": {
          "color": [
           141381703,
           1316855716,
           140003974,
           1297026226,
           30546883,
           127408954,
           800840817,
           387570742,
           183706234,
           843957510,
           115364561,
           95217315,
           1109433169,
           65156199,
           2565529693,
           22581161,
           2808096550,
           1163093654,
           496795686,
           899183384,
           1085685420,
           76767396,
           363369738,
           177740666,
           1047101291,
           1592909789,
           1241559043,
           1647990401,
           57876440,
           201660859,
           286400165,
           999748277,
           373199958,
           58255150,
           2009094673,
           1355959075,
           165484133,
           983637508,
           1605224506,
           1953533826,
           303236322,
           725980112,
           357925728,
           58054811,
           618990393,
           133716286,
           211050784,
           518745108,
           118482347,
           127567540,
           284819874,
           276259178,
           1214083358,
           1356565093,
           553634067,
           223633238,
           838079900,
           721975598,
           482257456,
           972509632,
           58149378,
           1755214421,
           1440757818,
           1163620694,
           1687664027,
           2011464183,
           786181836,
           256483385,
           1230675890,
           1264310836,
           16011326,
           156338624,
           505671438,
           335222234,
           200647221,
           61245289,
           153372011,
           720434240,
           38411956,
           172825906,
           52135248,
           107753850,
           674072710,
           585695368,
           250305248,
           248088961,
           601863821,
           1133865788,
           1279434863,
           477033549,
           14780425,
           751134527,
           2665343922,
           1791000570
          ],
          "coloraxis": "coloraxis",
          "size": [
           141381703,
           1316855716,
           140003974,
           1297026226,
           30546883,
           127408954,
           800840817,
           387570742,
           183706234,
           843957510,
           115364561,
           95217315,
           1109433169,
           65156199,
           2565529693,
           22581161,
           2808096550,
           1163093654,
           496795686,
           899183384,
           1085685420,
           76767396,
           363369738,
           177740666,
           1047101291,
           1592909789,
           1241559043,
           1647990401,
           57876440,
           201660859,
           286400165,
           999748277,
           373199958,
           58255150,
           2009094673,
           1355959075,
           165484133,
           983637508,
           1605224506,
           1953533826,
           303236322,
           725980112,
           357925728,
           58054811,
           618990393,
           133716286,
           211050784,
           518745108,
           118482347,
           127567540,
           284819874,
           276259178,
           1214083358,
           1356565093,
           553634067,
           223633238,
           838079900,
           721975598,
           482257456,
           972509632,
           58149378,
           1755214421,
           1440757818,
           1163620694,
           1687664027,
           2011464183,
           786181836,
           256483385,
           1230675890,
           1264310836,
           16011326,
           156338624,
           505671438,
           335222234,
           200647221,
           61245289,
           153372011,
           720434240,
           38411956,
           172825906,
           52135248,
           107753850,
           674072710,
           585695368,
           250305248,
           248088961,
           601863821,
           1133865788,
           1279434863,
           477033549,
           14780425,
           751134527,
           2665343922,
           1791000570
          ],
          "sizemode": "area",
          "sizeref": 7020241.375,
          "symbol": "circle"
         },
         "mode": "markers",
         "name": "",
         "scene": "scene",
         "showlegend": false,
         "type": "scatter3d",
         "x": [
          263,
          215,
          207,
          98,
          227,
          0,
          207,
          156,
          213,
          149,
          182,
          210,
          184,
          145,
          137,
          135,
          117,
          162,
          212,
          119,
          127,
          96,
          104,
          111,
          58,
          0,
          98,
          21,
          0,
          102,
          119,
          142,
          64,
          202,
          65,
          123,
          148,
          143,
          135,
          44,
          133,
          222,
          121,
          52,
          123,
          126,
          115,
          86,
          106,
          105,
          122,
          90,
          111,
          65,
          110,
          75,
          108,
          108,
          44,
          122,
          89,
          2,
          120,
          112,
          76,
          97,
          111,
          79,
          108,
          133,
          115,
          84,
          205,
          100,
          152,
          109,
          71,
          0,
          107,
          91,
          119,
          64,
          79,
          74,
          89,
          23,
          69,
          113,
          81,
          57,
          32,
          58,
          99,
          65
         ],
         "y": [
          826,
          "1,021",
          949,
          73,
          "1,173",
          0,
          548,
          "1,281",
          946,
          27,
          "1,093",
          953,
          727,
          "1,133",
          140,
          294,
          69,
          187,
          0,
          96,
          332,
          56,
          29,
          810,
          311,
          0,
          204,
          259,
          0,
          925,
          266,
          310,
          529,
          168,
          0,
          81,
          "1,451",
          200,
          312,
          0,
          425,
          418,
          171,
          "1,170",
          354,
          382,
          638,
          16,
          78,
          0,
          368,
          176,
          210,
          176,
          339,
          323,
          153,
          22,
          11,
          58,
          194,
          0,
          49,
          519,
          0,
          153,
          82,
          615,
          154,
          166,
          216,
          37,
          251,
          187,
          139,
          211,
          176,
          0,
          0,
          486,
          150,
          110,
          16,
          194,
          82,
          88,
          3,
          28,
          503,
          85,
          26,
          230,
          0,
          14
         ],
         "z": [
          147,
          115,
          113,
          110,
          104,
          101,
          100,
          98,
          91,
          88,
          87,
          83,
          80,
          80,
          79,
          78,
          78,
          77,
          77,
          77,
          76,
          69,
          68,
          66,
          64,
          62,
          61,
          59,
          59,
          59,
          58,
          56,
          56,
          55,
          55,
          53,
          53,
          52,
          52,
          52,
          50,
          50,
          50,
          50,
          49,
          48,
          48,
          47,
          47,
          46,
          46,
          46,
          45,
          45,
          44,
          44,
          44,
          44,
          44,
          44,
          43,
          43,
          43,
          43,
          43,
          43,
          42,
          42,
          42,
          42,
          41,
          41,
          40,
          40,
          40,
          40,
          39,
          39,
          39,
          39,
          38,
          38,
          38,
          38,
          38,
          38,
          38,
          38,
          37,
          37,
          36,
          36,
          36,
          36
         ]
        }
       ],
       "layout": {
        "coloraxis": {
         "colorbar": {
          "title": {
           "text": "streams"
          }
         },
         "colorscale": [
          [
           0,
           "#0d0887"
          ],
          [
           0.1111111111111111,
           "#46039f"
          ],
          [
           0.2222222222222222,
           "#7201a8"
          ],
          [
           0.3333333333333333,
           "#9c179e"
          ],
          [
           0.4444444444444444,
           "#bd3786"
          ],
          [
           0.5555555555555556,
           "#d8576b"
          ],
          [
           0.6666666666666666,
           "#ed7953"
          ],
          [
           0.7777777777777778,
           "#fb9f3a"
          ],
          [
           0.8888888888888888,
           "#fdca26"
          ],
          [
           1,
           "#f0f921"
          ]
         ]
        },
        "legend": {
         "itemsizing": "constant",
         "tracegroupgap": 0
        },
        "scene": {
         "domain": {
          "x": [
           0,
           1
          ],
          "y": [
           0,
           1
          ]
         },
         "xaxis": {
          "title": {
           "text": "Apple"
          }
         },
         "yaxis": {
          "title": {
           "text": "Shazam"
          }
         },
         "zaxis": {
          "title": {
           "text": "Spotify"
          }
         }
        },
        "template": {
         "data": {
          "bar": [
           {
            "error_x": {
             "color": "#2a3f5f"
            },
            "error_y": {
             "color": "#2a3f5f"
            },
            "marker": {
             "line": {
              "color": "#E5ECF6",
              "width": 0.5
             },
             "pattern": {
              "fillmode": "overlay",
              "size": 10,
              "solidity": 0.2
             }
            },
            "type": "bar"
           }
          ],
          "barpolar": [
           {
            "marker": {
             "line": {
              "color": "#E5ECF6",
              "width": 0.5
             },
             "pattern": {
              "fillmode": "overlay",
              "size": 10,
              "solidity": 0.2
             }
            },
            "type": "barpolar"
           }
          ],
          "carpet": [
           {
            "aaxis": {
             "endlinecolor": "#2a3f5f",
             "gridcolor": "white",
             "linecolor": "white",
             "minorgridcolor": "white",
             "startlinecolor": "#2a3f5f"
            },
            "baxis": {
             "endlinecolor": "#2a3f5f",
             "gridcolor": "white",
             "linecolor": "white",
             "minorgridcolor": "white",
             "startlinecolor": "#2a3f5f"
            },
            "type": "carpet"
           }
          ],
          "choropleth": [
           {
            "colorbar": {
             "outlinewidth": 0,
             "ticks": ""
            },
            "type": "choropleth"
           }
          ],
          "contour": [
           {
            "colorbar": {
             "outlinewidth": 0,
             "ticks": ""
            },
            "colorscale": [
             [
              0,
              "#0d0887"
             ],
             [
              0.1111111111111111,
              "#46039f"
             ],
             [
              0.2222222222222222,
              "#7201a8"
             ],
             [
              0.3333333333333333,
              "#9c179e"
             ],
             [
              0.4444444444444444,
              "#bd3786"
             ],
             [
              0.5555555555555556,
              "#d8576b"
             ],
             [
              0.6666666666666666,
              "#ed7953"
             ],
             [
              0.7777777777777778,
              "#fb9f3a"
             ],
             [
              0.8888888888888888,
              "#fdca26"
             ],
             [
              1,
              "#f0f921"
             ]
            ],
            "type": "contour"
           }
          ],
          "contourcarpet": [
           {
            "colorbar": {
             "outlinewidth": 0,
             "ticks": ""
            },
            "type": "contourcarpet"
           }
          ],
          "heatmap": [
           {
            "colorbar": {
             "outlinewidth": 0,
             "ticks": ""
            },
            "colorscale": [
             [
              0,
              "#0d0887"
             ],
             [
              0.1111111111111111,
              "#46039f"
             ],
             [
              0.2222222222222222,
              "#7201a8"
             ],
             [
              0.3333333333333333,
              "#9c179e"
             ],
             [
              0.4444444444444444,
              "#bd3786"
             ],
             [
              0.5555555555555556,
              "#d8576b"
             ],
             [
              0.6666666666666666,
              "#ed7953"
             ],
             [
              0.7777777777777778,
              "#fb9f3a"
             ],
             [
              0.8888888888888888,
              "#fdca26"
             ],
             [
              1,
              "#f0f921"
             ]
            ],
            "type": "heatmap"
           }
          ],
          "heatmapgl": [
           {
            "colorbar": {
             "outlinewidth": 0,
             "ticks": ""
            },
            "colorscale": [
             [
              0,
              "#0d0887"
             ],
             [
              0.1111111111111111,
              "#46039f"
             ],
             [
              0.2222222222222222,
              "#7201a8"
             ],
             [
              0.3333333333333333,
              "#9c179e"
             ],
             [
              0.4444444444444444,
              "#bd3786"
             ],
             [
              0.5555555555555556,
              "#d8576b"
             ],
             [
              0.6666666666666666,
              "#ed7953"
             ],
             [
              0.7777777777777778,
              "#fb9f3a"
             ],
             [
              0.8888888888888888,
              "#fdca26"
             ],
             [
              1,
              "#f0f921"
             ]
            ],
            "type": "heatmapgl"
           }
          ],
          "histogram": [
           {
            "marker": {
             "pattern": {
              "fillmode": "overlay",
              "size": 10,
              "solidity": 0.2
             }
            },
            "type": "histogram"
           }
          ],
          "histogram2d": [
           {
            "colorbar": {
             "outlinewidth": 0,
             "ticks": ""
            },
            "colorscale": [
             [
              0,
              "#0d0887"
             ],
             [
              0.1111111111111111,
              "#46039f"
             ],
             [
              0.2222222222222222,
              "#7201a8"
             ],
             [
              0.3333333333333333,
              "#9c179e"
             ],
             [
              0.4444444444444444,
              "#bd3786"
             ],
             [
              0.5555555555555556,
              "#d8576b"
             ],
             [
              0.6666666666666666,
              "#ed7953"
             ],
             [
              0.7777777777777778,
              "#fb9f3a"
             ],
             [
              0.8888888888888888,
              "#fdca26"
             ],
             [
              1,
              "#f0f921"
             ]
            ],
            "type": "histogram2d"
           }
          ],
          "histogram2dcontour": [
           {
            "colorbar": {
             "outlinewidth": 0,
             "ticks": ""
            },
            "colorscale": [
             [
              0,
              "#0d0887"
             ],
             [
              0.1111111111111111,
              "#46039f"
             ],
             [
              0.2222222222222222,
              "#7201a8"
             ],
             [
              0.3333333333333333,
              "#9c179e"
             ],
             [
              0.4444444444444444,
              "#bd3786"
             ],
             [
              0.5555555555555556,
              "#d8576b"
             ],
             [
              0.6666666666666666,
              "#ed7953"
             ],
             [
              0.7777777777777778,
              "#fb9f3a"
             ],
             [
              0.8888888888888888,
              "#fdca26"
             ],
             [
              1,
              "#f0f921"
             ]
            ],
            "type": "histogram2dcontour"
           }
          ],
          "mesh3d": [
           {
            "colorbar": {
             "outlinewidth": 0,
             "ticks": ""
            },
            "type": "mesh3d"
           }
          ],
          "parcoords": [
           {
            "line": {
             "colorbar": {
              "outlinewidth": 0,
              "ticks": ""
             }
            },
            "type": "parcoords"
           }
          ],
          "pie": [
           {
            "automargin": true,
            "type": "pie"
           }
          ],
          "scatter": [
           {
            "fillpattern": {
             "fillmode": "overlay",
             "size": 10,
             "solidity": 0.2
            },
            "type": "scatter"
           }
          ],
          "scatter3d": [
           {
            "line": {
             "colorbar": {
              "outlinewidth": 0,
              "ticks": ""
             }
            },
            "marker": {
             "colorbar": {
              "outlinewidth": 0,
              "ticks": ""
             }
            },
            "type": "scatter3d"
           }
          ],
          "scattercarpet": [
           {
            "marker": {
             "colorbar": {
              "outlinewidth": 0,
              "ticks": ""
             }
            },
            "type": "scattercarpet"
           }
          ],
          "scattergeo": [
           {
            "marker": {
             "colorbar": {
              "outlinewidth": 0,
              "ticks": ""
             }
            },
            "type": "scattergeo"
           }
          ],
          "scattergl": [
           {
            "marker": {
             "colorbar": {
              "outlinewidth": 0,
              "ticks": ""
             }
            },
            "type": "scattergl"
           }
          ],
          "scattermapbox": [
           {
            "marker": {
             "colorbar": {
              "outlinewidth": 0,
              "ticks": ""
             }
            },
            "type": "scattermapbox"
           }
          ],
          "scatterpolar": [
           {
            "marker": {
             "colorbar": {
              "outlinewidth": 0,
              "ticks": ""
             }
            },
            "type": "scatterpolar"
           }
          ],
          "scatterpolargl": [
           {
            "marker": {
             "colorbar": {
              "outlinewidth": 0,
              "ticks": ""
             }
            },
            "type": "scatterpolargl"
           }
          ],
          "scatterternary": [
           {
            "marker": {
             "colorbar": {
              "outlinewidth": 0,
              "ticks": ""
             }
            },
            "type": "scatterternary"
           }
          ],
          "surface": [
           {
            "colorbar": {
             "outlinewidth": 0,
             "ticks": ""
            },
            "colorscale": [
             [
              0,
              "#0d0887"
             ],
             [
              0.1111111111111111,
              "#46039f"
             ],
             [
              0.2222222222222222,
              "#7201a8"
             ],
             [
              0.3333333333333333,
              "#9c179e"
             ],
             [
              0.4444444444444444,
              "#bd3786"
             ],
             [
              0.5555555555555556,
              "#d8576b"
             ],
             [
              0.6666666666666666,
              "#ed7953"
             ],
             [
              0.7777777777777778,
              "#fb9f3a"
             ],
             [
              0.8888888888888888,
              "#fdca26"
             ],
             [
              1,
              "#f0f921"
             ]
            ],
            "type": "surface"
           }
          ],
          "table": [
           {
            "cells": {
             "fill": {
              "color": "#EBF0F8"
             },
             "line": {
              "color": "white"
             }
            },
            "header": {
             "fill": {
              "color": "#C8D4E3"
             },
             "line": {
              "color": "white"
             }
            },
            "type": "table"
           }
          ]
         },
         "layout": {
          "annotationdefaults": {
           "arrowcolor": "#2a3f5f",
           "arrowhead": 0,
           "arrowwidth": 1
          },
          "autotypenumbers": "strict",
          "coloraxis": {
           "colorbar": {
            "outlinewidth": 0,
            "ticks": ""
           }
          },
          "colorscale": {
           "diverging": [
            [
             0,
             "#8e0152"
            ],
            [
             0.1,
             "#c51b7d"
            ],
            [
             0.2,
             "#de77ae"
            ],
            [
             0.3,
             "#f1b6da"
            ],
            [
             0.4,
             "#fde0ef"
            ],
            [
             0.5,
             "#f7f7f7"
            ],
            [
             0.6,
             "#e6f5d0"
            ],
            [
             0.7,
             "#b8e186"
            ],
            [
             0.8,
             "#7fbc41"
            ],
            [
             0.9,
             "#4d9221"
            ],
            [
             1,
             "#276419"
            ]
           ],
           "sequential": [
            [
             0,
             "#0d0887"
            ],
            [
             0.1111111111111111,
             "#46039f"
            ],
            [
             0.2222222222222222,
             "#7201a8"
            ],
            [
             0.3333333333333333,
             "#9c179e"
            ],
            [
             0.4444444444444444,
             "#bd3786"
            ],
            [
             0.5555555555555556,
             "#d8576b"
            ],
            [
             0.6666666666666666,
             "#ed7953"
            ],
            [
             0.7777777777777778,
             "#fb9f3a"
            ],
            [
             0.8888888888888888,
             "#fdca26"
            ],
            [
             1,
             "#f0f921"
            ]
           ],
           "sequentialminus": [
            [
             0,
             "#0d0887"
            ],
            [
             0.1111111111111111,
             "#46039f"
            ],
            [
             0.2222222222222222,
             "#7201a8"
            ],
            [
             0.3333333333333333,
             "#9c179e"
            ],
            [
             0.4444444444444444,
             "#bd3786"
            ],
            [
             0.5555555555555556,
             "#d8576b"
            ],
            [
             0.6666666666666666,
             "#ed7953"
            ],
            [
             0.7777777777777778,
             "#fb9f3a"
            ],
            [
             0.8888888888888888,
             "#fdca26"
            ],
            [
             1,
             "#f0f921"
            ]
           ]
          },
          "colorway": [
           "#636efa",
           "#EF553B",
           "#00cc96",
           "#ab63fa",
           "#FFA15A",
           "#19d3f3",
           "#FF6692",
           "#B6E880",
           "#FF97FF",
           "#FECB52"
          ],
          "font": {
           "color": "#2a3f5f"
          },
          "geo": {
           "bgcolor": "white",
           "lakecolor": "white",
           "landcolor": "#E5ECF6",
           "showlakes": true,
           "showland": true,
           "subunitcolor": "white"
          },
          "hoverlabel": {
           "align": "left"
          },
          "hovermode": "closest",
          "mapbox": {
           "style": "light"
          },
          "paper_bgcolor": "white",
          "plot_bgcolor": "#E5ECF6",
          "polar": {
           "angularaxis": {
            "gridcolor": "white",
            "linecolor": "white",
            "ticks": ""
           },
           "bgcolor": "#E5ECF6",
           "radialaxis": {
            "gridcolor": "white",
            "linecolor": "white",
            "ticks": ""
           }
          },
          "scene": {
           "xaxis": {
            "backgroundcolor": "#E5ECF6",
            "gridcolor": "white",
            "gridwidth": 2,
            "linecolor": "white",
            "showbackground": true,
            "ticks": "",
            "zerolinecolor": "white"
           },
           "yaxis": {
            "backgroundcolor": "#E5ECF6",
            "gridcolor": "white",
            "gridwidth": 2,
            "linecolor": "white",
            "showbackground": true,
            "ticks": "",
            "zerolinecolor": "white"
           },
           "zaxis": {
            "backgroundcolor": "#E5ECF6",
            "gridcolor": "white",
            "gridwidth": 2,
            "linecolor": "white",
            "showbackground": true,
            "ticks": "",
            "zerolinecolor": "white"
           }
          },
          "shapedefaults": {
           "line": {
            "color": "#2a3f5f"
           }
          },
          "ternary": {
           "aaxis": {
            "gridcolor": "white",
            "linecolor": "white",
            "ticks": ""
           },
           "baxis": {
            "gridcolor": "white",
            "linecolor": "white",
            "ticks": ""
           },
           "bgcolor": "#E5ECF6",
           "caxis": {
            "gridcolor": "white",
            "linecolor": "white",
            "ticks": ""
           }
          },
          "title": {
           "x": 0.05
          },
          "xaxis": {
           "automargin": true,
           "gridcolor": "white",
           "linecolor": "white",
           "ticks": "",
           "title": {
            "standoff": 15
           },
           "zerolinecolor": "white",
           "zerolinewidth": 2
          },
          "yaxis": {
           "automargin": true,
           "gridcolor": "white",
           "linecolor": "white",
           "ticks": "",
           "title": {
            "standoff": 15
           },
           "zerolinecolor": "white",
           "zerolinewidth": 2
          }
         }
        },
        "title": {
         "text": "Chart Presence: Apple, Spotify, Shazam"
        }
       }
      }
     },
     "metadata": {},
     "output_type": "display_data"
    }
   ],
   "source": [
    "df_Spotify.dropna(subset=['in_apple_charts', 'in_shazam_charts', 'in_spotify_charts', 'streams'], inplace=True)\n",
    "\n",
    "df_Spotify['key'] = pd.Categorical(df_Spotify['key']).codes\n",
    "df_Spotify['mode'] = pd.Categorical(df_Spotify['mode']).codes\n",
    "\n",
    "fig_3d_scatter = px.scatter_3d(df_Spotify, x='in_apple_charts', y='in_shazam_charts', z='in_spotify_charts', color='streams',\n",
    "                               size='streams', hover_name='track_name',\n",
    "                               title='Chart Presence: Apple, Spotify, Shazam',\n",
    "                               labels = {'in_apple_charts': 'Apple', 'in_shazam_charts': 'Shazam', 'in_spotify_charts': 'Spotify'})\n",
    "fig_3d_scatter.show()"
   ]
  },
  {
   "cell_type": "code",
   "execution_count": 14,
   "metadata": {},
   "outputs": [],
   "source": [
    "fig_3d_scatter.write_html('3d_fig.html')"
   ]
  },
  {
   "cell_type": "code",
   "execution_count": 12,
   "metadata": {},
   "outputs": [],
   "source": [
    "categorical_columns = ['track_name', 'artist(s)_name', 'key', 'mode']\n",
    "for col in df_Spotify.columns:\n",
    "    if col not in categorical_columns:\n",
    "        df_Spotify[col] = pd.to_numeric(df_Spotify[col], errors='coerce')"
   ]
  },
  {
   "cell_type": "code",
   "execution_count": 13,
   "metadata": {},
   "outputs": [
    {
     "data": {
      "application/vnd.plotly.v1+json": {
       "config": {
        "plotlyServerURL": "https://plot.ly"
       },
       "data": [
        {
         "hovertemplate": "<b>%{hovertext}</b><br><br>Time (in days) in Spotify Charts=%{x}<br>Valence %=%{y}<br>Danceability %=%{z}<br>streams=%{marker.color}<extra></extra>",
         "hovertext": [
          "Seven (feat. Latto) (Explicit Ver.)",
          "Flowers",
          "vampire",
          "I Wanna Be Yours",
          "What Was I Made For? [From The Motion Picture \"Barbie\"]",
          "Dance The Night (From Barbie The Album)",
          "Cruel Summer",
          "Daylight",
          "Sprinter",
          "Creepin'",
          "Popular (with Playboi Carti & Madonna) - The Idol Vol. 1 (Music from the HBO Original Series)",
          "fukumean",
          "I'm Good (Blue)",
          "Barbie World (with Aqua) [From Barbie The Album]",
          "Starboy",
          "Rush",
          "Sunflower - Spider-Man: Into the Spider-Verse",
          "Kill Bill",
          "Cupid - Twin Ver.",
          "Calm Down (with Selena Gomez)",
          "I Ain't Worried",
          "Bite Me",
          "Like Crazy",
          "Baby Don't Hurt Me",
          "See You Again",
          "Viva La Vida",
          "Mockingbird",
          "Die For You",
          "(It Goes Like) Nanana - Edit",
          "Tattoo",
          "Too Many Nights (feat. Don Toliver & with Future)",
          "Anti-Hero",
          "People",
          "Super Shy",
          "Riptide",
          "Blank Space",
          "Makeba",
          "Summertime Sadness",
          "Cold Heart - PNAU Remix",
          "Can't Hold Us (feat. Ray Dalton)",
          "WHERE SHE GOES",
          "Ella Baila Sola",
          "BESO",
          "MONTAGEM - FR PUNK",
          "TQG",
          "LALA",
          "Miracle (with Ellie Goulding)",
          "Die For You - Remix",
          "Take Two",
          "Say Yes To Heaven",
          "Radio",
          "Trance (with Travis Scott & Young Thug)",
          "La Bachata",
          "Quevedo: Bzrp Music Sessions, Vol. 52",
          "La Bebe - Remix",
          "El Merengue",
          "Bones",
          "Shakira: Bzrp Music Sessions, Vol. 53",
          "Doja",
          "Where Are You Now",
          "Columbia",
          "Yellow",
          "Me Porto Bonito",
          "Set Fire to the Rain",
          "Without Me",
          "Counting Stars",
          "Style",
          "Moonlight",
          "Unholy (feat. Kim Petras)",
          "Titi Me PreguntÔø",
          "S91",
          "Boy's a liar Pt. 2",
          "un x100to",
          "Classy 101",
          "Peso Pluma: Bzrp Music Sessions, Vol. 55",
          "MOJABI GHOST",
          "AMARGURA",
          "Left and Right (Feat. Jung Kook of BTS)",
          "Still With You",
          "Chemical",
          "I Can See You (TaylorÔøΩÔøΩÔøΩs Version) (From The ",
          "El Cielo",
          "Hey Mor",
          "Yandel 150",
          "Coco Chanel",
          "Rara Vez",
          "Feliz CumpleaÔøΩÔøΩos Fe",
          "Ojitos Lindos",
          "Danza Kuduro",
          "LA INOCENTE",
          "Overdrive",
          "golden hour",
          "STAY (with Justin Bieber)",
          "No Role Modelz"
         ],
         "legendgroup": "",
         "marker": {
          "color": [
           141381703,
           1316855716,
           140003974,
           1297026226,
           30546883,
           127408954,
           800840817,
           387570742,
           183706234,
           843957510,
           115364561,
           95217315,
           1109433169,
           65156199,
           2565529693,
           22581161,
           2808096550,
           1163093654,
           496795686,
           899183384,
           1085685420,
           76767396,
           363369738,
           177740666,
           1047101291,
           1592909789,
           1241559043,
           1647990401,
           57876440,
           201660859,
           286400165,
           999748277,
           373199958,
           58255150,
           2009094673,
           1355959075,
           165484133,
           983637508,
           1605224506,
           1953533826,
           303236322,
           725980112,
           357925728,
           58054811,
           618990393,
           133716286,
           211050784,
           518745108,
           118482347,
           127567540,
           284819874,
           276259178,
           1214083358,
           1356565093,
           553634067,
           223633238,
           838079900,
           721975598,
           482257456,
           972509632,
           58149378,
           1755214421,
           1440757818,
           1163620694,
           1687664027,
           2011464183,
           786181836,
           256483385,
           1230675890,
           1264310836,
           16011326,
           156338624,
           505671438,
           335222234,
           200647221,
           61245289,
           153372011,
           720434240,
           38411956,
           172825906,
           52135248,
           107753850,
           674072710,
           585695368,
           250305248,
           248088961,
           601863821,
           1133865788,
           1279434863,
           477033549,
           14780425,
           751134527,
           2665343922,
           1791000570
          ],
          "coloraxis": "coloraxis",
          "size": [
           141381703,
           1316855716,
           140003974,
           1297026226,
           30546883,
           127408954,
           800840817,
           387570742,
           183706234,
           843957510,
           115364561,
           95217315,
           1109433169,
           65156199,
           2565529693,
           22581161,
           2808096550,
           1163093654,
           496795686,
           899183384,
           1085685420,
           76767396,
           363369738,
           177740666,
           1047101291,
           1592909789,
           1241559043,
           1647990401,
           57876440,
           201660859,
           286400165,
           999748277,
           373199958,
           58255150,
           2009094673,
           1355959075,
           165484133,
           983637508,
           1605224506,
           1953533826,
           303236322,
           725980112,
           357925728,
           58054811,
           618990393,
           133716286,
           211050784,
           518745108,
           118482347,
           127567540,
           284819874,
           276259178,
           1214083358,
           1356565093,
           553634067,
           223633238,
           838079900,
           721975598,
           482257456,
           972509632,
           58149378,
           1755214421,
           1440757818,
           1163620694,
           1687664027,
           2011464183,
           786181836,
           256483385,
           1230675890,
           1264310836,
           16011326,
           156338624,
           505671438,
           335222234,
           200647221,
           61245289,
           153372011,
           720434240,
           38411956,
           172825906,
           52135248,
           107753850,
           674072710,
           585695368,
           250305248,
           248088961,
           601863821,
           1133865788,
           1279434863,
           477033549,
           14780425,
           751134527,
           2665343922,
           1791000570
          ],
          "sizemode": "area",
          "sizeref": 7020241.375,
          "symbol": "circle"
         },
         "mode": "markers",
         "name": "",
         "scene": "scene",
         "showlegend": false,
         "type": "scatter3d",
         "x": [
          147,
          115,
          113,
          110,
          104,
          101,
          100,
          98,
          91,
          88,
          87,
          83,
          80,
          80,
          79,
          78,
          78,
          77,
          77,
          77,
          76,
          69,
          68,
          66,
          64,
          62,
          61,
          59,
          59,
          59,
          58,
          56,
          56,
          55,
          55,
          53,
          53,
          52,
          52,
          52,
          50,
          50,
          50,
          50,
          49,
          48,
          48,
          47,
          47,
          46,
          46,
          46,
          45,
          45,
          44,
          44,
          44,
          44,
          44,
          44,
          43,
          43,
          43,
          43,
          43,
          43,
          42,
          42,
          42,
          42,
          41,
          41,
          40,
          40,
          40,
          40,
          39,
          39,
          39,
          39,
          38,
          38,
          38,
          38,
          38,
          38,
          38,
          38,
          37,
          37,
          36,
          36,
          36,
          36
         ],
         "y": [
          89,
          65,
          32,
          44,
          14,
          78,
          58,
          32,
          66,
          17,
          83,
          22,
          38,
          75,
          49,
          35,
          91,
          43,
          76,
          82,
          82,
          69,
          36,
          23,
          58,
          42,
          24,
          51,
          96,
          30,
          17,
          51,
          71,
          52,
          50,
          57,
          40,
          24,
          92,
          88,
          23,
          83,
          53,
          84,
          61,
          61,
          31,
          50,
          57,
          17,
          20,
          48,
          85,
          55,
          56,
          70,
          65,
          50,
          97,
          26,
          26,
          28,
          43,
          47,
          67,
          48,
          48,
          88,
          24,
          19,
          42,
          86,
          56,
          67,
          81,
          74,
          55,
          72,
          34,
          37,
          82,
          17,
          40,
          58,
          14,
          96,
          57,
          27,
          86,
          46,
          48,
          14,
          48,
          47
         ],
         "z": [
          80,
          71,
          51,
          48,
          44,
          67,
          55,
          51,
          92,
          71,
          85,
          85,
          56,
          77,
          68,
          74,
          76,
          64,
          78,
          80,
          71,
          80,
          63,
          60,
          56,
          49,
          62,
          59,
          67,
          55,
          68,
          64,
          59,
          78,
          48,
          75,
          82,
          56,
          80,
          63,
          65,
          67,
          77,
          63,
          72,
          71,
          64,
          53,
          62,
          49,
          42,
          75,
          84,
          62,
          81,
          78,
          77,
          78,
          91,
          67,
          67,
          43,
          91,
          61,
          92,
          66,
          60,
          64,
          71,
          65,
          86,
          70,
          57,
          86,
          85,
          81,
          92,
          88,
          53,
          50,
          69,
          72,
          90,
          78,
          68,
          84,
          87,
          65,
          47,
          76,
          56,
          51,
          59,
          70
         ]
        }
       ],
       "layout": {
        "coloraxis": {
         "colorbar": {
          "title": {
           "text": "streams"
          }
         },
         "colorscale": [
          [
           0,
           "#0d0887"
          ],
          [
           0.1111111111111111,
           "#46039f"
          ],
          [
           0.2222222222222222,
           "#7201a8"
          ],
          [
           0.3333333333333333,
           "#9c179e"
          ],
          [
           0.4444444444444444,
           "#bd3786"
          ],
          [
           0.5555555555555556,
           "#d8576b"
          ],
          [
           0.6666666666666666,
           "#ed7953"
          ],
          [
           0.7777777777777778,
           "#fb9f3a"
          ],
          [
           0.8888888888888888,
           "#fdca26"
          ],
          [
           1,
           "#f0f921"
          ]
         ]
        },
        "legend": {
         "itemsizing": "constant",
         "tracegroupgap": 0
        },
        "scene": {
         "domain": {
          "x": [
           0,
           1
          ],
          "y": [
           0,
           1
          ]
         },
         "xaxis": {
          "title": {
           "text": "Time (in days) in Spotify Charts"
          }
         },
         "yaxis": {
          "title": {
           "text": "Valence %"
          }
         },
         "zaxis": {
          "title": {
           "text": "Danceability %"
          }
         }
        },
        "template": {
         "data": {
          "bar": [
           {
            "error_x": {
             "color": "#2a3f5f"
            },
            "error_y": {
             "color": "#2a3f5f"
            },
            "marker": {
             "line": {
              "color": "#E5ECF6",
              "width": 0.5
             },
             "pattern": {
              "fillmode": "overlay",
              "size": 10,
              "solidity": 0.2
             }
            },
            "type": "bar"
           }
          ],
          "barpolar": [
           {
            "marker": {
             "line": {
              "color": "#E5ECF6",
              "width": 0.5
             },
             "pattern": {
              "fillmode": "overlay",
              "size": 10,
              "solidity": 0.2
             }
            },
            "type": "barpolar"
           }
          ],
          "carpet": [
           {
            "aaxis": {
             "endlinecolor": "#2a3f5f",
             "gridcolor": "white",
             "linecolor": "white",
             "minorgridcolor": "white",
             "startlinecolor": "#2a3f5f"
            },
            "baxis": {
             "endlinecolor": "#2a3f5f",
             "gridcolor": "white",
             "linecolor": "white",
             "minorgridcolor": "white",
             "startlinecolor": "#2a3f5f"
            },
            "type": "carpet"
           }
          ],
          "choropleth": [
           {
            "colorbar": {
             "outlinewidth": 0,
             "ticks": ""
            },
            "type": "choropleth"
           }
          ],
          "contour": [
           {
            "colorbar": {
             "outlinewidth": 0,
             "ticks": ""
            },
            "colorscale": [
             [
              0,
              "#0d0887"
             ],
             [
              0.1111111111111111,
              "#46039f"
             ],
             [
              0.2222222222222222,
              "#7201a8"
             ],
             [
              0.3333333333333333,
              "#9c179e"
             ],
             [
              0.4444444444444444,
              "#bd3786"
             ],
             [
              0.5555555555555556,
              "#d8576b"
             ],
             [
              0.6666666666666666,
              "#ed7953"
             ],
             [
              0.7777777777777778,
              "#fb9f3a"
             ],
             [
              0.8888888888888888,
              "#fdca26"
             ],
             [
              1,
              "#f0f921"
             ]
            ],
            "type": "contour"
           }
          ],
          "contourcarpet": [
           {
            "colorbar": {
             "outlinewidth": 0,
             "ticks": ""
            },
            "type": "contourcarpet"
           }
          ],
          "heatmap": [
           {
            "colorbar": {
             "outlinewidth": 0,
             "ticks": ""
            },
            "colorscale": [
             [
              0,
              "#0d0887"
             ],
             [
              0.1111111111111111,
              "#46039f"
             ],
             [
              0.2222222222222222,
              "#7201a8"
             ],
             [
              0.3333333333333333,
              "#9c179e"
             ],
             [
              0.4444444444444444,
              "#bd3786"
             ],
             [
              0.5555555555555556,
              "#d8576b"
             ],
             [
              0.6666666666666666,
              "#ed7953"
             ],
             [
              0.7777777777777778,
              "#fb9f3a"
             ],
             [
              0.8888888888888888,
              "#fdca26"
             ],
             [
              1,
              "#f0f921"
             ]
            ],
            "type": "heatmap"
           }
          ],
          "heatmapgl": [
           {
            "colorbar": {
             "outlinewidth": 0,
             "ticks": ""
            },
            "colorscale": [
             [
              0,
              "#0d0887"
             ],
             [
              0.1111111111111111,
              "#46039f"
             ],
             [
              0.2222222222222222,
              "#7201a8"
             ],
             [
              0.3333333333333333,
              "#9c179e"
             ],
             [
              0.4444444444444444,
              "#bd3786"
             ],
             [
              0.5555555555555556,
              "#d8576b"
             ],
             [
              0.6666666666666666,
              "#ed7953"
             ],
             [
              0.7777777777777778,
              "#fb9f3a"
             ],
             [
              0.8888888888888888,
              "#fdca26"
             ],
             [
              1,
              "#f0f921"
             ]
            ],
            "type": "heatmapgl"
           }
          ],
          "histogram": [
           {
            "marker": {
             "pattern": {
              "fillmode": "overlay",
              "size": 10,
              "solidity": 0.2
             }
            },
            "type": "histogram"
           }
          ],
          "histogram2d": [
           {
            "colorbar": {
             "outlinewidth": 0,
             "ticks": ""
            },
            "colorscale": [
             [
              0,
              "#0d0887"
             ],
             [
              0.1111111111111111,
              "#46039f"
             ],
             [
              0.2222222222222222,
              "#7201a8"
             ],
             [
              0.3333333333333333,
              "#9c179e"
             ],
             [
              0.4444444444444444,
              "#bd3786"
             ],
             [
              0.5555555555555556,
              "#d8576b"
             ],
             [
              0.6666666666666666,
              "#ed7953"
             ],
             [
              0.7777777777777778,
              "#fb9f3a"
             ],
             [
              0.8888888888888888,
              "#fdca26"
             ],
             [
              1,
              "#f0f921"
             ]
            ],
            "type": "histogram2d"
           }
          ],
          "histogram2dcontour": [
           {
            "colorbar": {
             "outlinewidth": 0,
             "ticks": ""
            },
            "colorscale": [
             [
              0,
              "#0d0887"
             ],
             [
              0.1111111111111111,
              "#46039f"
             ],
             [
              0.2222222222222222,
              "#7201a8"
             ],
             [
              0.3333333333333333,
              "#9c179e"
             ],
             [
              0.4444444444444444,
              "#bd3786"
             ],
             [
              0.5555555555555556,
              "#d8576b"
             ],
             [
              0.6666666666666666,
              "#ed7953"
             ],
             [
              0.7777777777777778,
              "#fb9f3a"
             ],
             [
              0.8888888888888888,
              "#fdca26"
             ],
             [
              1,
              "#f0f921"
             ]
            ],
            "type": "histogram2dcontour"
           }
          ],
          "mesh3d": [
           {
            "colorbar": {
             "outlinewidth": 0,
             "ticks": ""
            },
            "type": "mesh3d"
           }
          ],
          "parcoords": [
           {
            "line": {
             "colorbar": {
              "outlinewidth": 0,
              "ticks": ""
             }
            },
            "type": "parcoords"
           }
          ],
          "pie": [
           {
            "automargin": true,
            "type": "pie"
           }
          ],
          "scatter": [
           {
            "fillpattern": {
             "fillmode": "overlay",
             "size": 10,
             "solidity": 0.2
            },
            "type": "scatter"
           }
          ],
          "scatter3d": [
           {
            "line": {
             "colorbar": {
              "outlinewidth": 0,
              "ticks": ""
             }
            },
            "marker": {
             "colorbar": {
              "outlinewidth": 0,
              "ticks": ""
             }
            },
            "type": "scatter3d"
           }
          ],
          "scattercarpet": [
           {
            "marker": {
             "colorbar": {
              "outlinewidth": 0,
              "ticks": ""
             }
            },
            "type": "scattercarpet"
           }
          ],
          "scattergeo": [
           {
            "marker": {
             "colorbar": {
              "outlinewidth": 0,
              "ticks": ""
             }
            },
            "type": "scattergeo"
           }
          ],
          "scattergl": [
           {
            "marker": {
             "colorbar": {
              "outlinewidth": 0,
              "ticks": ""
             }
            },
            "type": "scattergl"
           }
          ],
          "scattermapbox": [
           {
            "marker": {
             "colorbar": {
              "outlinewidth": 0,
              "ticks": ""
             }
            },
            "type": "scattermapbox"
           }
          ],
          "scatterpolar": [
           {
            "marker": {
             "colorbar": {
              "outlinewidth": 0,
              "ticks": ""
             }
            },
            "type": "scatterpolar"
           }
          ],
          "scatterpolargl": [
           {
            "marker": {
             "colorbar": {
              "outlinewidth": 0,
              "ticks": ""
             }
            },
            "type": "scatterpolargl"
           }
          ],
          "scatterternary": [
           {
            "marker": {
             "colorbar": {
              "outlinewidth": 0,
              "ticks": ""
             }
            },
            "type": "scatterternary"
           }
          ],
          "surface": [
           {
            "colorbar": {
             "outlinewidth": 0,
             "ticks": ""
            },
            "colorscale": [
             [
              0,
              "#0d0887"
             ],
             [
              0.1111111111111111,
              "#46039f"
             ],
             [
              0.2222222222222222,
              "#7201a8"
             ],
             [
              0.3333333333333333,
              "#9c179e"
             ],
             [
              0.4444444444444444,
              "#bd3786"
             ],
             [
              0.5555555555555556,
              "#d8576b"
             ],
             [
              0.6666666666666666,
              "#ed7953"
             ],
             [
              0.7777777777777778,
              "#fb9f3a"
             ],
             [
              0.8888888888888888,
              "#fdca26"
             ],
             [
              1,
              "#f0f921"
             ]
            ],
            "type": "surface"
           }
          ],
          "table": [
           {
            "cells": {
             "fill": {
              "color": "#EBF0F8"
             },
             "line": {
              "color": "white"
             }
            },
            "header": {
             "fill": {
              "color": "#C8D4E3"
             },
             "line": {
              "color": "white"
             }
            },
            "type": "table"
           }
          ]
         },
         "layout": {
          "annotationdefaults": {
           "arrowcolor": "#2a3f5f",
           "arrowhead": 0,
           "arrowwidth": 1
          },
          "autotypenumbers": "strict",
          "coloraxis": {
           "colorbar": {
            "outlinewidth": 0,
            "ticks": ""
           }
          },
          "colorscale": {
           "diverging": [
            [
             0,
             "#8e0152"
            ],
            [
             0.1,
             "#c51b7d"
            ],
            [
             0.2,
             "#de77ae"
            ],
            [
             0.3,
             "#f1b6da"
            ],
            [
             0.4,
             "#fde0ef"
            ],
            [
             0.5,
             "#f7f7f7"
            ],
            [
             0.6,
             "#e6f5d0"
            ],
            [
             0.7,
             "#b8e186"
            ],
            [
             0.8,
             "#7fbc41"
            ],
            [
             0.9,
             "#4d9221"
            ],
            [
             1,
             "#276419"
            ]
           ],
           "sequential": [
            [
             0,
             "#0d0887"
            ],
            [
             0.1111111111111111,
             "#46039f"
            ],
            [
             0.2222222222222222,
             "#7201a8"
            ],
            [
             0.3333333333333333,
             "#9c179e"
            ],
            [
             0.4444444444444444,
             "#bd3786"
            ],
            [
             0.5555555555555556,
             "#d8576b"
            ],
            [
             0.6666666666666666,
             "#ed7953"
            ],
            [
             0.7777777777777778,
             "#fb9f3a"
            ],
            [
             0.8888888888888888,
             "#fdca26"
            ],
            [
             1,
             "#f0f921"
            ]
           ],
           "sequentialminus": [
            [
             0,
             "#0d0887"
            ],
            [
             0.1111111111111111,
             "#46039f"
            ],
            [
             0.2222222222222222,
             "#7201a8"
            ],
            [
             0.3333333333333333,
             "#9c179e"
            ],
            [
             0.4444444444444444,
             "#bd3786"
            ],
            [
             0.5555555555555556,
             "#d8576b"
            ],
            [
             0.6666666666666666,
             "#ed7953"
            ],
            [
             0.7777777777777778,
             "#fb9f3a"
            ],
            [
             0.8888888888888888,
             "#fdca26"
            ],
            [
             1,
             "#f0f921"
            ]
           ]
          },
          "colorway": [
           "#636efa",
           "#EF553B",
           "#00cc96",
           "#ab63fa",
           "#FFA15A",
           "#19d3f3",
           "#FF6692",
           "#B6E880",
           "#FF97FF",
           "#FECB52"
          ],
          "font": {
           "color": "#2a3f5f"
          },
          "geo": {
           "bgcolor": "white",
           "lakecolor": "white",
           "landcolor": "#E5ECF6",
           "showlakes": true,
           "showland": true,
           "subunitcolor": "white"
          },
          "hoverlabel": {
           "align": "left"
          },
          "hovermode": "closest",
          "mapbox": {
           "style": "light"
          },
          "paper_bgcolor": "white",
          "plot_bgcolor": "#E5ECF6",
          "polar": {
           "angularaxis": {
            "gridcolor": "white",
            "linecolor": "white",
            "ticks": ""
           },
           "bgcolor": "#E5ECF6",
           "radialaxis": {
            "gridcolor": "white",
            "linecolor": "white",
            "ticks": ""
           }
          },
          "scene": {
           "xaxis": {
            "backgroundcolor": "#E5ECF6",
            "gridcolor": "white",
            "gridwidth": 2,
            "linecolor": "white",
            "showbackground": true,
            "ticks": "",
            "zerolinecolor": "white"
           },
           "yaxis": {
            "backgroundcolor": "#E5ECF6",
            "gridcolor": "white",
            "gridwidth": 2,
            "linecolor": "white",
            "showbackground": true,
            "ticks": "",
            "zerolinecolor": "white"
           },
           "zaxis": {
            "backgroundcolor": "#E5ECF6",
            "gridcolor": "white",
            "gridwidth": 2,
            "linecolor": "white",
            "showbackground": true,
            "ticks": "",
            "zerolinecolor": "white"
           }
          },
          "shapedefaults": {
           "line": {
            "color": "#2a3f5f"
           }
          },
          "ternary": {
           "aaxis": {
            "gridcolor": "white",
            "linecolor": "white",
            "ticks": ""
           },
           "baxis": {
            "gridcolor": "white",
            "linecolor": "white",
            "ticks": ""
           },
           "bgcolor": "#E5ECF6",
           "caxis": {
            "gridcolor": "white",
            "linecolor": "white",
            "ticks": ""
           }
          },
          "title": {
           "x": 0.05
          },
          "xaxis": {
           "automargin": true,
           "gridcolor": "white",
           "linecolor": "white",
           "ticks": "",
           "title": {
            "standoff": 15
           },
           "zerolinecolor": "white",
           "zerolinewidth": 2
          },
          "yaxis": {
           "automargin": true,
           "gridcolor": "white",
           "linecolor": "white",
           "ticks": "",
           "title": {
            "standoff": 15
           },
           "zerolinecolor": "white",
           "zerolinewidth": 2
          }
         }
        },
        "title": {
         "text": "Spotify Chart Presence vs. Valence vs. Danceability"
        }
       }
      }
     },
     "metadata": {},
     "output_type": "display_data"
    }
   ],
   "source": [
    "df_Spotify.dropna(subset=['energy_%', 'valence_%', 'danceability_%', 'streams', 'in_spotify_charts'], inplace=True)\n",
    "\n",
    "df_Spotify['key'] = pd.Categorical(df_Spotify['key']).codes\n",
    "df_Spotify['mode'] = pd.Categorical(df_Spotify['mode']).codes\n",
    "\n",
    "fig_3d_scatter = px.scatter_3d(df_Spotify, x='in_spotify_charts', y='valence_%', z='danceability_%', color='streams',\n",
    "                               size='streams', hover_name='track_name',\n",
    "                               title='Spotify Chart Presence vs. Valence vs. Danceability',\n",
    "                               labels = {'in_spotify_charts': 'Time (in days) in Spotify Charts', 'danceability_%': 'Danceability %', 'valence_%': 'Valence %'})\n",
    "fig_3d_scatter.show()"
   ]
  },
  {
   "cell_type": "code",
   "execution_count": null,
   "metadata": {},
   "outputs": [],
   "source": []
  },
  {
   "cell_type": "code",
   "execution_count": null,
   "metadata": {},
   "outputs": [],
   "source": []
  },
  {
   "cell_type": "code",
   "execution_count": null,
   "metadata": {},
   "outputs": [],
   "source": []
  },
  {
   "cell_type": "code",
   "execution_count": null,
   "metadata": {},
   "outputs": [],
   "source": []
  }
 ],
 "metadata": {
  "kernelspec": {
   "display_name": "base",
   "language": "python",
   "name": "python3"
  },
  "language_info": {
   "codemirror_mode": {
    "name": "ipython",
    "version": 3
   },
   "file_extension": ".py",
   "mimetype": "text/x-python",
   "name": "python",
   "nbconvert_exporter": "python",
   "pygments_lexer": "ipython3",
   "version": "3.11.7"
  }
 },
 "nbformat": 4,
 "nbformat_minor": 2
}
